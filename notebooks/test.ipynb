{
 "cells": [
  {
   "cell_type": "markdown",
   "id": "8b078865-cce4-4459-aadb-8e6a16c2ab6f",
   "metadata": {},
   "source": [
    "# Check jupyter setup"
   ]
  },
  {
   "cell_type": "code",
   "execution_count": 2,
   "id": "60e072d3-9e52-447e-872e-801009d8ba04",
   "metadata": {},
   "outputs": [
    {
     "name": "stdout",
     "output_type": "stream",
     "text": [
      "Selected Jupyter core packages...\n",
      "IPython          : 8.20.0\n",
      "ipykernel        : 6.28.0\n",
      "ipywidgets       : not installed\n",
      "jupyter_client   : 8.6.0\n",
      "jupyter_core     : 5.5.0\n",
      "jupyter_server   : 2.10.0\n",
      "jupyterlab       : 4.1.2\n",
      "nbclient         : 0.8.0\n",
      "nbconvert        : 7.10.0\n",
      "nbformat         : 5.9.2\n",
      "notebook         : 7.1.0\n",
      "qtconsole        : not installed\n",
      "traitlets        : 5.7.1\n"
     ]
    }
   ],
   "source": [
    "!jupyter --version"
   ]
  },
  {
   "cell_type": "markdown",
   "id": "6a8f7fe5-0145-4d6c-b75a-d0de22d91b3b",
   "metadata": {},
   "source": [
    "# Prompt"
   ]
  },
  {
   "cell_type": "code",
   "execution_count": 1,
   "id": "38301de7-33b6-43c9-a9c4-b68c992288ea",
   "metadata": {},
   "outputs": [],
   "source": [
    "from langchain_core.messages import SystemMessage\n",
    "from langchain_core.prompts import ChatPromptTemplate\n",
    "from langchain_core.prompts.chat import HumanMessagePromptTemplate"
   ]
  },
  {
   "cell_type": "code",
   "execution_count": 2,
   "id": "e8281b4b-44fe-471b-a2e5-64a008a9ddbf",
   "metadata": {},
   "outputs": [],
   "source": [
    "prompt = ChatPromptTemplate.from_messages([\n",
    "    SystemMessage(content='You are a world class technical documentation writer having a conversation with a human. ' \n",
    "                  + 'If you do not know the answer to a question, you truthfully say you do not know.'),\n",
    "    HumanMessagePromptTemplate.from_template('{input}', input_variables=['input'])\n",
    "])"
   ]
  },
  {
   "cell_type": "code",
   "execution_count": 3,
   "id": "da1bf172-33b8-4c45-bee5-a3e397d53135",
   "metadata": {},
   "outputs": [
    {
     "data": {
      "text/plain": [
       "ChatPromptTemplate(input_variables=['input'], messages=[SystemMessage(content='You are a world class technical documentation writer having a conversation with a human. If you do not know the answer to a question, you truthfully say you do not know.'), HumanMessagePromptTemplate(prompt=PromptTemplate(input_variables=['input'], template='{input}'))])"
      ]
     },
     "execution_count": 3,
     "metadata": {},
     "output_type": "execute_result"
    }
   ],
   "source": [
    "prompt"
   ]
  },
  {
   "cell_type": "code",
   "execution_count": 4,
   "id": "df9c9f9e-6faf-46d3-ab04-eee9404f5013",
   "metadata": {},
   "outputs": [
    {
     "data": {
      "text/plain": [
       "[SystemMessage(content='You are a world class technical documentation writer having a conversation with a human. If you do not know the answer to a question, you truthfully say you do not know.'),\n",
       " HumanMessage(content='foo')]"
      ]
     },
     "execution_count": 4,
     "metadata": {},
     "output_type": "execute_result"
    }
   ],
   "source": [
    "prompt.format_messages(input='foo')"
   ]
  },
  {
   "cell_type": "code",
   "execution_count": 5,
   "id": "d913ad76-1bb4-4710-8b8b-2e1637ced622",
   "metadata": {},
   "outputs": [
    {
     "data": {
      "text/plain": [
       "ChatPromptValue(messages=[SystemMessage(content='You are a world class technical documentation writer having a conversation with a human. If you do not know the answer to a question, you truthfully say you do not know.'), HumanMessage(content='foo')])"
      ]
     },
     "execution_count": 5,
     "metadata": {},
     "output_type": "execute_result"
    }
   ],
   "source": [
    "prompt.format_prompt(input='foo')"
   ]
  },
  {
   "cell_type": "code",
   "execution_count": 6,
   "id": "b9181e11-bbb3-4efd-a3da-77911d80930e",
   "metadata": {},
   "outputs": [
    {
     "name": "stdout",
     "output_type": "stream",
     "text": [
      "System: You are a world class technical documentation writer having a conversation with a human. If you do not know the answer to a question, you truthfully say you do not know.\n",
      "Human: foo\n"
     ]
    }
   ],
   "source": [
    "print(prompt.format(input='foo'))"
   ]
  },
  {
   "cell_type": "code",
   "execution_count": 7,
   "id": "db87cdb3-038b-49b9-b8ec-104113ee1893",
   "metadata": {},
   "outputs": [
    {
     "data": {
      "text/plain": [
       "ChatPromptValue(messages=[SystemMessage(content='You are a world class technical documentation writer having a conversation with a human. If you do not know the answer to a question, you truthfully say you do not know.'), HumanMessage(content='foo')])"
      ]
     },
     "execution_count": 7,
     "metadata": {},
     "output_type": "execute_result"
    }
   ],
   "source": [
    "prompt.invoke({'input': 'foo'})"
   ]
  },
  {
   "cell_type": "code",
   "execution_count": 8,
   "id": "b8d4f708-ef49-4223-837a-79912d05fa1c",
   "metadata": {},
   "outputs": [
    {
     "data": {
      "text/plain": [
       "ChatPromptValue(messages=[SystemMessage(content='You are a world class technical documentation writer having a conversation with a human. If you do not know the answer to a question, you truthfully say you do not know.'), HumanMessage(content='foo')])"
      ]
     },
     "execution_count": 8,
     "metadata": {},
     "output_type": "execute_result"
    }
   ],
   "source": [
    "prompt.invoke('foo')"
   ]
  }
 ],
 "metadata": {
  "kernelspec": {
   "display_name": "Python 3 (ipykernel)",
   "language": "python",
   "name": "python3"
  },
  "language_info": {
   "codemirror_mode": {
    "name": "ipython",
    "version": 3
   },
   "file_extension": ".py",
   "mimetype": "text/x-python",
   "name": "python",
   "nbconvert_exporter": "python",
   "pygments_lexer": "ipython3",
   "version": "3.11.8"
  }
 },
 "nbformat": 4,
 "nbformat_minor": 5
}
